{
 "cells": [
  {
   "cell_type": "code",
   "execution_count": 2,
   "metadata": {},
   "outputs": [
    {
     "ename": "ModuleNotFoundError",
     "evalue": "No module named 'bmt'",
     "output_type": "error",
     "traceback": [
      "\u001b[1;31m---------------------------------------------------------------------------\u001b[0m",
      "\u001b[1;31mModuleNotFoundError\u001b[0m                       Traceback (most recent call last)",
      "Cell \u001b[1;32mIn[2], line 1\u001b[0m\n\u001b[1;32m----> 1\u001b[0m \u001b[38;5;28;01mimport\u001b[39;00m \u001b[38;5;21;01mbmt\u001b[39;00m\n\u001b[0;32m      2\u001b[0m \u001b[38;5;28;01mimport\u001b[39;00m \u001b[38;5;21;01mrequests\u001b[39;00m\n\u001b[0;32m      3\u001b[0m \u001b[38;5;28;01mimport\u001b[39;00m \u001b[38;5;21;01mjson\u001b[39;00m\n",
      "\u001b[1;31mModuleNotFoundError\u001b[0m: No module named 'bmt'"
     ]
    }
   ],
   "source": [
    "import bmt\n",
    "import requests\n",
    "import json\n",
    "from pprint import pprint\n",
    "import pyyaml\n",
    "\n",
    "class YAMLData:\n",
    "    def __init__(self, file_path):\n",
    "        self.file_path = file_path\n",
    "        self.data = None\n",
    "        self.read_yaml()\n",
    "\n",
    "    def read_yaml(self):\n",
    "        with open(self.file_path, 'r') as yaml_file:\n",
    "            self.data = yaml.safe_load(yaml_file)\n",
    "\n",
    "yaml_data = YAMLData('mapping_testv2.yaml')\n",
    "\n",
    "\n",
    "tk = bmt.Toolkit()\n",
    "\n",
    "# /meta_knowledge_graph endpoint\n",
    "#response = requests.get(\"https://bte.transltr.io/v1/team/Service%20Provider/meta_knowledge_graph\")\n",
    "#edges_and_nodes = response.json()\n",
    "edges_and_nodes = yaml_data.data\n",
    "missing_predicates = []\n",
    "mismatch_domain = []\n",
    "domains = []\n",
    "    \n",
    "for edge in edges_and_nodes.get('edges'):\n",
    "    subject = edge.get('subject')\n",
    "    predicate = edge.get('predicate')\n",
    "    p_object = edge.get('object')\n",
    "    if not tk.is_predicate(predicate):\n",
    "        # format the return as biolink:snake_case_string instead of snake_case_string\n",
    "        association_slots = tk.get_all_edge_properties(True)\n",
    "        if predicate in association_slots:\n",
    "            print(\"predicate does not descend from 'related_to: \" + predicate)\n",
    "        elif tk.is_mixin(predicate):\n",
    "                print(\"predicate is a mixin: \" + predicate)\n",
    "        else:\n",
    "            missing_predicates.append(predicate)\n",
    "            print(\"missing predicate: \" + predicate)\n",
    "    else:\n",
    "        domains = tk.get_ancestors(subject, True, True)\n",
    "        if subject not in domains:\n",
    "            print (\"domain mismatch: \" + tk.get_slot_domain(predicate))\n",
    "            mismatch_domain.append({\"predicate\": predicate,\n",
    "                                    \"domain_in_model\": tk.get_slot_domain(predicate), \n",
    "                                    \"domain_in_endpoint\": source})\n",
    "        ranges = tk.get_ancestors(p_object, True, True)\n",
    "        if p_object not in ranges:\n",
    "            print (\"range mismatch: \" + tk.get_slot_range(predicate))\n",
    "            mismatch_range.append({\"predicate\": predicate,\n",
    "                                    \"domain_in_model\": tk.get_slot_range(predicate), \n",
    "                                    \"domain_in_endpoint\": source})"
   ]
  }
 ],
 "metadata": {
  "kernelspec": {
   "display_name": "Python 3",
   "language": "python",
   "name": "python3"
  },
  "language_info": {
   "codemirror_mode": {
    "name": "ipython",
    "version": 3
   },
   "file_extension": ".py",
   "mimetype": "text/x-python",
   "name": "python",
   "nbconvert_exporter": "python",
   "pygments_lexer": "ipython3",
   "version": "3.11.2"
  }
 },
 "nbformat": 4,
 "nbformat_minor": 2
}
