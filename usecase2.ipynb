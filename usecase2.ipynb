{
 "cells": [
  {
   "cell_type": "markdown",
   "metadata": {},
   "source": [
    "Usecase test 2: Which articles contain data regarding the gene KLF9, the top downregulated transcription factor discussed in https://doi.org/10.1038%2Fs41586-022-05377-7 (PMID36323788), one of the largest examples of transcriptomic analysis on ASD samples (and included in our KG)."
   ]
  },
  {
   "cell_type": "markdown",
   "metadata": {},
   "source": [
    "1. Query to find all articles containing reference to KLF9 in the supporting data (Ensembl ID ENSG00000119138) \n",
    " (will repeat with higher number of articles)"
   ]
  },
  {
   "cell_type": "code",
   "execution_count": 2,
   "metadata": {},
   "outputs": [
    {
     "name": "stdout",
     "output_type": "stream",
     "text": [
      "Article https://www.ncbi.nlm.nih.gov/pmc/articles/PMID30545856 includes gene: ENSG00000119138, KLF9\n",
      "---\n",
      "Article https://www.ncbi.nlm.nih.gov/pmc/articles/PMID37041460 includes gene: KLF9, ENSG00000119138\n",
      "---\n",
      "Article https://www.ncbi.nlm.nih.gov/pmc/articles/PMID36323788 includes gene: ENSG00000119138\n",
      "---\n"
     ]
    }
   ],
   "source": [
    "import rdflib\n",
    "\n",
    "#filename = \"test_graph.nt\"\n",
    "filename = \"main_graph.nt\"\n",
    "g = rdflib.Graph()\n",
    "g.parse(filename, format=\"nt\")\n",
    "#print(len(g))\n",
    "test_query = \"\"\"\n",
    "    PREFIX EDAM: <http://edamontology.org/>\n",
    "    PREFIX RDF: <http://www.w3.org/1999/02/22-rdf-syntax-ns#>\n",
    "    PREFIX DCT: <http://purl.org/dc/terms/>\n",
    "    PREFIX BIOLINK: <https://w3id.org/biolink/vocab/>\n",
    "    PREFIX ENSEMBL: <http://identifiers.org/ensembl/>\n",
    "    PREFIX NCBIGENE: <http://identifiers.org/ncbigene/>\n",
    "    \n",
    "    SELECT ?pmid (GROUP_CONCAT(DISTINCT ?gene; SEPARATOR=\", \") AS ?all_genes)\n",
    "    WHERE {\n",
    "        ?pmid (<>|!<>)* ?gene .\n",
    "        ?pmid RDF:type DCT:identifier .\n",
    "        ?subject BIOLINK:symbol | ENSEMBL:id | NCBIGENE:id ?gene .\n",
    "        FILTER(CONTAINS(STR(?gene), \"KLF9\") || CONTAINS(STR(?gene), \"ENSG00000119138\"))\n",
    "    }\n",
    "    GROUP BY ?pmid\n",
    "\"\"\"\n",
    "\n",
    "results = g.query(test_query)\n",
    "for row in results:\n",
    "    print(f\"Article {row.pmid} includes gene: {row.all_genes}\")\n",
    "    print(\"---\")"
   ]
  },
  {
   "cell_type": "markdown",
   "metadata": {},
   "source": [
    "2. Manual check of the papers?"
   ]
  },
  {
   "cell_type": "markdown",
   "metadata": {},
   "source": [
    "Repeat with higher number of articles included. Check manually against the articles for accuracy. Check against details for this gene, ubcluding its role. Is it amoungst the most commonly discussed/ included in datasets?"
   ]
  }
 ],
 "metadata": {
  "kernelspec": {
   "display_name": "Python 3",
   "language": "python",
   "name": "python3"
  },
  "language_info": {
   "codemirror_mode": {
    "name": "ipython",
    "version": 3
   },
   "file_extension": ".py",
   "mimetype": "text/x-python",
   "name": "python",
   "nbconvert_exporter": "python",
   "pygments_lexer": "ipython3",
   "version": "3.11.2"
  }
 },
 "nbformat": 4,
 "nbformat_minor": 2
}
