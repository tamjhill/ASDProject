{
 "cells": [
  {
   "cell_type": "markdown",
   "metadata": {},
   "source": [
    "Usecase test 2: Which articles contain data regarding the gene NRXN2"
   ]
  },
  {
   "cell_type": "markdown",
   "metadata": {},
   "source": [
    "1. Query to find all articles containing reference to NRXN2 in the supporting data - HGNC:8009"
   ]
  },
  {
   "cell_type": "code",
   "execution_count": 2,
   "metadata": {},
   "outputs": [
    {
     "data": {
      "text/plain": [
       "<Graph identifier=Nbbd4b17dde184f3ca0e3568854213721 (<class 'rdflib.graph.Graph'>)>"
      ]
     },
     "execution_count": 2,
     "metadata": {},
     "output_type": "execute_result"
    }
   ],
   "source": [
    "import rdflib\n",
    "\n",
    "#filename = \"test_graph.nt\"\n",
    "filename = \"cleaned_maingraph.nt\"\n",
    "g = rdflib.Graph()\n",
    "g.parse(filename, format=\"nt\")\n"
   ]
  },
  {
   "cell_type": "code",
   "execution_count": 10,
   "metadata": {},
   "outputs": [
    {
     "name": "stdout",
     "output_type": "stream",
     "text": [
      "Root Subject: https://pubmed.ncbi.nlm.nih.gov/36323788, Count: 6\n"
     ]
    }
   ],
   "source": [
    "gene_query = \"\"\"\n",
    "    PREFIX EDAM: <http://edamontology.org/>\n",
    "    PREFIX RDF: <http://www.w3.org/1999/02/22-rdf-syntax-ns#>\n",
    "    PREFIX DCT: <http://purl.org/dc/terms/>\n",
    "    PREFIX BIOLINK: <https://w3id.org/biolink/vocab/>\n",
    "    PREFIX ENSEMBL: <http://identifiers.org/ensembl/>\n",
    "    PREFIX NCBIGENE: <http://identifiers.org/ncbigene/>\n",
    "    PREFIX XSD: <http://www.w3.org/2001/XMLSchema#>\n",
    "\n",
    "    SELECT ?root_subject (COUNT(DISTINCT ?root_subject) AS ?count)\n",
    "        WHERE {\n",
    "            FILTER(STRSTARTS(STR(?root_subject), \"https://pubmed.ncbi.nlm.nih.gov/\")) .\n",
    "            ?root_subject ?p1 ?intermediate1 .\n",
    "            ?intermediate1 ?p2 ?intermediate2 .\n",
    "            ?intermediate2 BIOLINK:Gene ?gene .\n",
    "            ?intermediate2 EDAM:data_1669 ?pvalue .\n",
    "            FILTER(?pvalue < 0.05) .\n",
    "            #?intermediate2 EDAM:data_3754 ?logvalue .\n",
    "            #FILTER(DATATYPE(?logvalue > 1.0)) .\n",
    "            FILTER(CONTAINS(STR(?gene), \"HGNC:8009\"))\n",
    "        }\n",
    "\"\"\"\n",
    "#returns count of distinct articles with the term HGNC:8009 as a connected gene, with significant gene values\n",
    "result = g.query(gene_query)\n",
    "\n",
    "for row in result:\n",
    "    root_subject = row[0]    # ?root_subject\n",
    "    count = row[1]           # ?count\n",
    "\n",
    "    print(f\"Root Subject: {root_subject}, Count: {count}\")"
   ]
  },
  {
   "cell_type": "code",
   "execution_count": null,
   "metadata": {},
   "outputs": [],
   "source": [
    "#repeating with less common autism protein - HSPB1, HGNC:5246\n",
    "\n",
    "heatprotein_query = \"\"\"\n",
    "    PREFIX EDAM: <http://edamontology.org/>\n",
    "    PREFIX RDF: <http://www.w3.org/1999/02/22-rdf-syntax-ns#>\n",
    "    PREFIX DCT: <http://purl.org/dc/terms/>\n",
    "    PREFIX BIOLINK: <https://w3id.org/biolink/vocab/>\n",
    "    PREFIX ENSEMBL: <http://identifiers.org/ensembl/>\n",
    "    PREFIX NCBIGENE: <http://identifiers.org/ncbigene/>\n",
    "    PREFIX XSD: <http://www.w3.org/2001/XMLSchema#>\n",
    "\n",
    "    SELECT ?gene ?root_subject\n",
    "    WHERE {\n",
    "        ?root_subject ?p ?o\n",
    "        FILTER(STRSTARTS(STR(?root_subject), \"https://pubmed.ncbi.nlm.nih.gov/\"))\n",
    "        ?root_subject ?p1 ?intermediate1 .\n",
    "        ?intermediate1 ?p2 ?intermediate2 .\n",
    "        ?intermediate2 BIOLINK:Gene ?gene .\n",
    "        FILTER(CONTAINS(STR(?gene), \"HGNC:5246\")) .\n",
    "        ?intermediate2 EDAM:data_1669 ?pvalue .\n",
    "        FILTER(DATATYPE(?pvalue) = XSD:double && ?pvalue < 0.05) .\n",
    "        ?intermediate2 EDAM:data_3754 ?logvalue .\n",
    "        FILTER(DATATYPE(?logvalue) = XSD:double && (?logvalue > 0.5 || ?logvalue < -0.5))\n",
    "    }\n",
    "    GROUP BY ?gene\n",
    "    ORDER BY DESC(?count)\n",
    "    LIMIT 50\n",
    "\"\"\"\n",
    "results = g.query(heatprotein_query)\n",
    "print(\"Gene | article\")\n",
    "print(\"-----|------\")\n",
    "for row in results:\n",
    "    gene = str(row['gene'])\n",
    "    count = int(row['root_subject'].toPython()) \n",
    "    print(f\"{gene} | {count}\")"
   ]
  }
 ],
 "metadata": {
  "kernelspec": {
   "display_name": "Python 3",
   "language": "python",
   "name": "python3"
  },
  "language_info": {
   "codemirror_mode": {
    "name": "ipython",
    "version": 3
   },
   "file_extension": ".py",
   "mimetype": "text/x-python",
   "name": "python",
   "nbconvert_exporter": "python",
   "pygments_lexer": "ipython3",
   "version": "3.11.2"
  }
 },
 "nbformat": 4,
 "nbformat_minor": 2
}
