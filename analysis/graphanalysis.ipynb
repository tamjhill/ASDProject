{
 "cells": [
  {
   "cell_type": "code",
   "execution_count": 10,
   "metadata": {},
   "outputs": [
    {
     "name": "stdout",
     "output_type": "stream",
     "text": [
      "rdflib Graph loaded successfully\n"
     ]
    }
   ],
   "source": [
    "import numpy as np\n",
    "import pandas as pd\n",
    "import networkx as nx\n",
    "from sklearn.preprocessing import StandardScaler\n",
    "import rdflib\n",
    "from rdflib.extras.external_graph_libs import rdflib_to_networkx_digraph\n",
    "\n",
    "filename = \"cleaned_maingraph.nt\"\n",
    "g = rdflib.Graph()\n",
    "g.parse(filename, format=\"nt\")\n",
    "print(\"rdflib Graph loaded successfully\")\n",
    "#G = rdflib_to_networkx_digraph(g)\n",
    "#print(\"networkx Graph loaded successfully\")"
   ]
  },
  {
   "cell_type": "code",
   "execution_count": 9,
   "metadata": {},
   "outputs": [
    {
     "name": "stdout",
     "output_type": "stream",
     "text": [
      "https://pubmed.ncbi.nlm.nih.gov/26186191 http://purl.org/dc/terms/date 2015\n",
      "https://pubmed.ncbi.nlm.nih.gov/26186191 http://purl.org/dc/terms/publisher Cell\n",
      "https://pubmed.ncbi.nlm.nih.gov/28184278 http://purl.org/dc/terms/date 2017\n",
      "https://pubmed.ncbi.nlm.nih.gov/28184278 http://purl.org/dc/terms/publisher Mol Autism\n",
      "https://pubmed.ncbi.nlm.nih.gov/30545856 http://purl.org/dc/terms/date 2018\n",
      "https://pubmed.ncbi.nlm.nih.gov/30545856 http://purl.org/dc/terms/publisher Science\n",
      "https://pubmed.ncbi.nlm.nih.gov/31097668 http://purl.org/dc/terms/date 2019\n",
      "https://pubmed.ncbi.nlm.nih.gov/31097668 http://purl.org/dc/terms/publisher Science\n",
      "https://pubmed.ncbi.nlm.nih.gov/33243861 http://purl.org/dc/terms/date 2020\n",
      "https://pubmed.ncbi.nlm.nih.gov/33243861 http://purl.org/dc/terms/publisher Science\n",
      "https://pubmed.ncbi.nlm.nih.gov/33262327 http://purl.org/dc/terms/date 2020\n",
      "https://pubmed.ncbi.nlm.nih.gov/33262327 http://purl.org/dc/terms/publisher Transl Psychiatry\n",
      "https://pubmed.ncbi.nlm.nih.gov/34535545 http://purl.org/dc/terms/date 2021\n",
      "https://pubmed.ncbi.nlm.nih.gov/34535545 http://purl.org/dc/terms/publisher RNA\n",
      "https://pubmed.ncbi.nlm.nih.gov/35962193 http://purl.org/dc/terms/date 2022\n",
      "https://pubmed.ncbi.nlm.nih.gov/35962193 http://purl.org/dc/terms/publisher Mol Psychiatry\n",
      "https://pubmed.ncbi.nlm.nih.gov/36323788 http://purl.org/dc/terms/date 2022\n",
      "https://pubmed.ncbi.nlm.nih.gov/36323788 http://purl.org/dc/terms/publisher Nature\n",
      "https://pubmed.ncbi.nlm.nih.gov/36590292 http://purl.org/dc/terms/date 2022\n",
      "https://pubmed.ncbi.nlm.nih.gov/36590292 http://purl.org/dc/terms/publisher Front Neurosci\n",
      "https://pubmed.ncbi.nlm.nih.gov/36862688 http://purl.org/dc/terms/date 2023\n",
      "https://pubmed.ncbi.nlm.nih.gov/36862688 http://purl.org/dc/terms/publisher Proc Natl Acad Sci U S A\n",
      "https://pubmed.ncbi.nlm.nih.gov/37041460 http://purl.org/dc/terms/date 2023\n",
      "https://pubmed.ncbi.nlm.nih.gov/37041460 http://purl.org/dc/terms/publisher BMC Bioinformatics\n",
      "https://pubmed.ncbi.nlm.nih.gov/37704762 http://purl.org/dc/terms/date 2023\n",
      "https://pubmed.ncbi.nlm.nih.gov/37704762 http://purl.org/dc/terms/publisher Nature\n"
     ]
    }
   ],
   "source": [
    "#sparql query to return all article ID, years and journals\n",
    "article_query = \"\"\"\n",
    "    PREFIX DCT: <http://purl.org/dc/terms/>\n",
    "\n",
    "    SELECT ?article_id ?predicate ?object\n",
    "    WHERE {\n",
    "        { \n",
    "            ?article_id DCT:date ?object .\n",
    "            BIND(DCT:date AS ?predicate)\n",
    "        }\n",
    "        UNION\n",
    "        {\n",
    "            ?article_id DCT:publisher ?object .\n",
    "            BIND(DCT:publisher AS ?predicate)\n",
    "        }\n",
    "    }\n",
    "    ORDER BY ?article_id\n",
    "    \"\"\"\n",
    "results = g.query(article_query)\n",
    "for row in results:\n",
    "    print(str(row[0]), str(row[1]), str(row[2]))"
   ]
  },
  {
   "cell_type": "code",
   "execution_count": null,
   "metadata": {},
   "outputs": [],
   "source": [
    "#sparql query to check all predicates\n",
    "query = \"\"\"\n",
    "    SELECT DISTINCT ?p \n",
    "    WHERE {\n",
    "        ?s ?p ?o\n",
    "    }\n",
    "\"\"\"\n",
    "\n",
    "results = g.query(query)\n",
    "for row in results:\n",
    "    p = str(row.p) if isinstance(row.p, (Literal, URIRef)) else row.p\n",
    "    print(p)\n"
   ]
  },
  {
   "cell_type": "code",
   "execution_count": null,
   "metadata": {},
   "outputs": [],
   "source": [
    "# SPARQL query to count the number of each type of predicate\n",
    "pred_query = \"\"\"\n",
    "SELECT ?predicate (COUNT(DISTINCT ?object) AS ?count)\n",
    "WHERE {\n",
    "  ?subject ?predicate ?object .\n",
    "}\n",
    "GROUP BY ?predicate\n",
    "\"\"\"\n",
    "\n",
    "results = g.query(pred_query)\n",
    "\n",
    "for row in results:\n",
    "    predicate = str(row[0])\n",
    "    count = int(row[1])\n",
    "    print(f\"{predicate}: {count}\")"
   ]
  }
 ],
 "metadata": {
  "kernelspec": {
   "display_name": "Python 3",
   "language": "python",
   "name": "python3"
  },
  "language_info": {
   "codemirror_mode": {
    "name": "ipython",
    "version": 3
   },
   "file_extension": ".py",
   "mimetype": "text/x-python",
   "name": "python",
   "nbconvert_exporter": "python",
   "pygments_lexer": "ipython3",
   "version": "3.11.2"
  }
 },
 "nbformat": 4,
 "nbformat_minor": 2
}
