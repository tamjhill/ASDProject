{
 "cells": [
  {
   "cell_type": "markdown",
   "metadata": {},
   "source": [
    "General analysis on the knowledge graph, and prep for visualising in Gephi"
   ]
  },
  {
   "cell_type": "code",
   "execution_count": 1,
   "metadata": {},
   "outputs": [
    {
     "name": "stdout",
     "output_type": "stream",
     "text": [
      "rdflib Graph loaded successfully with 3553957 triples\n"
     ]
    }
   ],
   "source": [
    "#loading graph into RDFLib\n",
    "\n",
    "from rdflib import Graph\n",
    "from rdflib.extras.external_graph_libs import rdflib_to_networkx_digraph\n",
    "import networkx as nx\n",
    "from networkx import Graph as NXGraph\n",
    "import matplotlib.pyplot as plt\n",
    "import statistics\n",
    "import collections\n",
    "\n",
    "\n",
    "filename = \"cleaned_maingraph.nt\"\n",
    "rg = Graph()\n",
    "rg.parse(filename, format='nt')\n",
    "print(\"rdflib Graph loaded successfully with {} triples\".format(len(rg)))"
   ]
  },
  {
   "cell_type": "code",
   "execution_count": 2,
   "metadata": {},
   "outputs": [
    {
     "name": "stdout",
     "output_type": "stream",
     "text": [
      "networkx Graph loaded successfully\n"
     ]
    }
   ],
   "source": [
    "# Conversion of rdflib.Graph to networkx.Graph\n",
    "# G = rdflib_to_networkx_digraph(rg)\n",
    "# print(\"networkx Graph loaded successfully\")"
   ]
  },
  {
   "cell_type": "code",
   "execution_count": null,
   "metadata": {},
   "outputs": [],
   "source": [
    "# Analysis 1\n",
    "\n",
    "def mean(numbers):\n",
    "    return float(sum(numbers)) / max(len(numbers), 1)\n",
    "\n",
    "def number_of_pendants(G):\n",
    "    \"\"\"\n",
    "    Equals the number of nodes with degree 1\n",
    "    \"\"\"\n",
    "    pendants = 0\n",
    "    for u in G:\n",
    "        if G.degree[u] == 1:\n",
    "            pendants += 1\n",
    "    return pendants\n",
    "\n",
    "# Network size\n",
    "print(\"The network has {} nodes and {} edges\".format(G.number_of_nodes(), G.number_of_edges()))\n",
    "print()\n",
    "print(\"The network has {} pendants\".format(number_of_pendants(G))) #number of nodes with only one link\n",
    "print()\n",
    "print(\"The network density is {}\".format(nx.density(G)))\n",
    "print()"
   ]
  },
  {
   "cell_type": "code",
   "execution_count": 5,
   "metadata": {},
   "outputs": [
    {
     "name": "stdout",
     "output_type": "stream",
     "text": [
      "10732\n"
     ]
    }
   ],
   "source": [
    "#query to check size of each layer for each article\n",
    "from rdflib.extras.external_graph_libs import rdflib_to_networkx_digraph\n",
    "\n",
    "query = \"\"\"\n",
    "    PREFIX PMC: <https://pubmed.ncbi.nlm.nih.gov/>\n",
    "    PREFIX EDAM: <http://edamontology.org/>\n",
    "    PREFIX RDF: <http://www.w3.org/1999/02/22-rdf-syntax-ns#>\n",
    "    PREFIX DCT: <http://purl.org/dc/terms/>\n",
    "    PREFIX BIOLINK: <https://w3id.org/biolink/vocab/>\n",
    "    PREFIX ENSEMBL: <http://identifiers.org/ensembl/>\n",
    "    PREFIX NCBIGENE: <http://identifiers.org/ncbigene/>\n",
    "                \n",
    "    SELECT ?s ?p ?o\n",
    "    WHERE {\n",
    "        VALUES ?root {PMC:28184278 PMC:36590292 PMC:33243861 PMC:26186191}\n",
    "        {\n",
    "            ?root ?d ?a .\n",
    "            BIND(?root AS ?s)\n",
    "            BIND(?d AS ?p)\n",
    "            BIND(?a AS ?o)\n",
    "        }\n",
    "        UNION\n",
    "        {   \n",
    "            ?root ?d ?a .\n",
    "            ?a ?e ?b .\n",
    "            BIND(?a AS ?s)\n",
    "            BIND(?e AS ?p)\n",
    "            BIND(?b AS ?o)\n",
    "        }\n",
    "        UNION\n",
    "        {\n",
    "            ?root ?d ?a .\n",
    "            ?a ?e ?b .\n",
    "            ?b ?f ?c .\n",
    "            BIND(?b AS ?s)\n",
    "            BIND(?f AS ?p)\n",
    "            BIND(?c AS ?o)\n",
    "       }\n",
    "    }\n",
    "    LIMIT 20000\n",
    "\"\"\"\n",
    "\n",
    "#return query\n",
    "subg = rg.query(query)\n",
    "print(len(subg))"
   ]
  },
  {
   "cell_type": "code",
   "execution_count": null,
   "metadata": {},
   "outputs": [],
   "source": [
    "#Actual triple sizes per article (retrieved from above):\n",
    "#PMID               Triples to article  +   Triples for rows of data    +   values for each row\n",
    "#PMID:26186191  -   6 + 2203 + 6609\n",
    "#PMID:28184278  -   6 + 39 + 117\n",
    "#PMID:30545856  -   9 + 136353 + 408942\n",
    "#PMID:31097668  -   11 + 4684 + 12981\n",
    "#PMID:33243861  -   6 + 187 + 561\n",
    "#PMID:33262327  -   7 + 2370 + 7110\n",
    "#PMID:34535545  -   7 + 2597 + 7791\n",
    "#PMID:35962193  -   9 + 93222 + 232603\n",
    "#PMID:36323788  -   10 + 153575 + 460670\n",
    "#PMID:36590292  -   6 + 248 + 744\n",
    "#PMID:36862688  -   9 + 72374 + 217122\n",
    "#PMID:37041460  -   13 + 3900 + 11700\n",
    "#PMID:37704762  -   6 + 429307 + 1287921"
   ]
  },
  {
   "cell_type": "code",
   "execution_count": 6,
   "metadata": {},
   "outputs": [],
   "source": [
    "#To convert to nxgraph (not currently needed)\n",
    "#G = nx.DiGraph()\n",
    "#for s, p, o in subg:\n",
    "#    G.add_edge(str(s), str(o), relation=str(p))\n",
    "#\n",
    "#nx.write_gexf(G, \"sub4.gexf\")"
   ]
  },
  {
   "cell_type": "code",
   "execution_count": 6,
   "metadata": {},
   "outputs": [],
   "source": [
    "#subgraph creation to visualise 2 papers - creates Gephi file\n",
    "# import rdflib\n",
    "\n",
    "query = \"\"\"\n",
    "PREFIX PMC: <https://pubmed.ncbi.nlm.nih.gov/>\n",
    "PREFIX EDAM: <http://edamontology.org/>\n",
    "PREFIX RDF: <http://www.w3.org/1999/02/22-rdf-syntax-ns#>\n",
    "PREFIX DCT: <http://purl.org/dc/terms/>\n",
    "PREFIX BIOLINK: <https://w3id.org/biolink/vocab/>\n",
    "PREFIX ENSEMBL: <http://identifiers.org/ensembl/>\n",
    "PREFIX NCBIGENE: <http://identifiers.org/ncbigene/>\n",
    "            \n",
    "SELECT ?s ?p ?o\n",
    "WHERE {\n",
    "    VALUES ?root { PMC:32460837 PMC:33262327 }\n",
    "    ?root ((!<>)*)* ?s .\n",
    "    ?s ?p ?o .\n",
    "}\n",
    "\"\"\"\n",
    "\n",
    "subg = rg.query(query)\n",
    "subgraph = rdflib.Graph()\n",
    "for row in subg:\n",
    "    subgraph.add(row)\n",
    "\n",
    "G = nx.DiGraph()\n",
    "for s, p, o in subgraph:\n",
    "    G.add_edge(str(s), str(o), relation=str(p))\n",
    "\n",
    "#write out to gexf file that can be viewed and manipulated in Gephi\n",
    "nx.write_gexf(G, \"subgraph2.gexf\")"
   ]
  }
 ],
 "metadata": {
  "kernelspec": {
   "display_name": "Python 3",
   "language": "python",
   "name": "python3"
  },
  "language_info": {
   "codemirror_mode": {
    "name": "ipython",
    "version": 3
   },
   "file_extension": ".py",
   "mimetype": "text/x-python",
   "name": "python",
   "nbconvert_exporter": "python",
   "pygments_lexer": "ipython3",
   "version": "3.11.2"
  }
 },
 "nbformat": 4,
 "nbformat_minor": 2
}
