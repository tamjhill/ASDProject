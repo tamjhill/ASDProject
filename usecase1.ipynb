{
 "cells": [
  {
   "cell_type": "markdown",
   "metadata": {},
   "source": [
    "Usecase test 1: demonstrating that genes given in an article's abstract are found to be amoung the highest significance genes linked to that article in the KG. "
   ]
  },
  {
   "cell_type": "markdown",
   "metadata": {},
   "source": [
    "1. Retrieving all named genes from the 10 articles first retrieved from Pubmed (from the stored metadata file)"
   ]
  },
  {
   "cell_type": "code",
   "execution_count": 9,
   "metadata": {},
   "outputs": [
    {
     "name": "stdout",
     "output_type": "stream",
     "text": [
      "Article PMID: 36213201\n",
      "Matched gene terms: ['set']\n",
      "\n",
      "Article PMID: 36688057\n",
      "Matched gene terms: ['CD14']\n",
      "\n",
      "Article PMID: 37381037\n",
      "Matched gene terms: ['ATRX', 'set', 'TEs', 'impact']\n",
      "\n",
      "Article PMID: 38781372\n",
      "Matched gene terms: ['GRN']\n",
      "\n"
     ]
    }
   ],
   "source": [
    "#import scispacy\n",
    "import spacy\n",
    "import csv\n",
    "import re\n",
    "spacy.load(\"en_core_web_sm\")\n",
    "\n",
    "#retrieve data from the metadata file\n",
    "def get_csv_column(file_path, column_name):\n",
    "    data = []\n",
    "    with open(file_path, 'r') as csvfile:\n",
    "        csvreader = csv.DictReader(csvfile)\n",
    "        for row in csvreader:\n",
    "            data.append(row[column_name])\n",
    "    return data\n",
    "\n",
    "\n",
    "def process_csv(file_path, search_terms, search_column, return_column):\n",
    "    nlp = spacy.load(\"en_core_web_sm\")\n",
    "    results = []\n",
    "    search_terms_lower = [term.lower() for term in search_terms]\n",
    "    with open(file_path, 'r', encoding='utf-8') as csvfile:\n",
    "        reader = csv.DictReader(csvfile)\n",
    "        for row in reader:\n",
    "            search_text = row[search_column]\n",
    "            return_value = row[return_column]\n",
    "            doc = nlp(search_text)\n",
    "            matched_terms = set(token.text for token in doc \n",
    "                                if token.text.lower() in search_terms_lower \n",
    "                                and not token.is_punct\n",
    "                                and token.pos_ != \"VERB\")\n",
    "            if matched_terms:\n",
    "                results.append({\n",
    "                    'matched_terms': list(matched_terms),\n",
    "                    'return_value': return_value\n",
    "                })\n",
    "    return results\n",
    "\n",
    "\n",
    "abstract_file = 'data/asd_article_metadata.csv'\n",
    "gene_file = 'gene_list.csv'     #list of gene names taken from Ensembl \n",
    "column_name = 'Gene name'\n",
    "gene_list = get_csv_column(gene_file, column_name)\n",
    "search_column = 'abstract'      #will search through the columns of abstracts\n",
    "return_column = 'pmid'           #will return the associated article pmid\n",
    "\n",
    "results = process_csv(abstract_file, gene_list, search_column, return_column)\n",
    "\n",
    "for result in results:\n",
    "    print(f\"Article PMID: {result['return_value']}\")\n",
    "    print(f\"Matched gene terms: {result['matched_terms']}\")\n",
    "    \n",
    "    print()"
   ]
  },
  {
   "cell_type": "markdown",
   "metadata": {},
   "source": [
    "Visual check - only correct output is: 37381037 - contains ATRX\n"
   ]
  },
  {
   "cell_type": "markdown",
   "metadata": {},
   "source": [
    "2. Querying the KG to retrieve the most significant genes within the datasets for each article: "
   ]
  },
  {
   "cell_type": "code",
   "execution_count": 3,
   "metadata": {},
   "outputs": [
    {
     "name": "stdout",
     "output_type": "stream",
     "text": [
      "Number of results: 29082\n"
     ]
    }
   ],
   "source": [
    "import rdflib\n",
    "import re\n",
    "\n",
    "filename = \"main_graph.nt\"\n",
    "g = rdflib.Graph()\n",
    "g.parse(filename, format=\"nt\")\n",
    "\n",
    "#query to return all data-rows with a pvalue and gene\n",
    "query = \"\"\"\n",
    "    PREFIX EDAM: <http://edamontology.org/>\n",
    "    PREFIX RDF: <http://www.w3.org/1999/02/22-rdf-syntax-ns#>\n",
    "    PREFIX DCT: <http://purl.org/dc/terms/>\n",
    "    PREFIX BIOLINK: <https://w3id.org/biolink/vocab/>\n",
    "    PREFIX ENSEMBL: <http://identifiers.org/ensembl/>\n",
    "    PREFIX NCBIGENE: <http://identifiers.org/ncbigene/>\n",
    "\n",
    "    SELECT ?subject ?gene ?value\n",
    "    WHERE {\n",
    "        ?subject EDAM:data_2082 ?value .\n",
    "        ?subject BIOLINK:symbol | ENSEMBL:id | NCBIGENE:id ?gene .\n",
    "    }\n",
    "\"\"\"\n",
    "#will add logfold info too:\n",
    "#        ?subject EDAM:data_3754 ?logfold .\n",
    "\n",
    "results = g.query(query)\n",
    "#print(f\"Number of results: {len(list(results))}\")\n"
   ]
  },
  {
   "cell_type": "code",
   "execution_count": 9,
   "metadata": {},
   "outputs": [
    {
     "name": "stdout",
     "output_type": "stream",
     "text": [
      "Article: https://www.ncbi.nlm.nih.gov/pmc/articles/PMID36323788\n",
      "  Gene: RNF157, P-value: 0.000000\n",
      "  Gene: TANC2.4, P-value: 0.000000\n",
      "  Gene: PCP4, P-value: 0.000000\n",
      "  Gene: HCN1, P-value: 0.000000\n",
      "  Gene: SNCA, P-value: 0.000000\n",
      "  Gene: SCN1B, P-value: 0.000000\n",
      "  Gene: IQCJ-SCHIP1.2, P-value: 0.000000\n",
      "  Gene: WNK2, P-value: 0.000000\n",
      "  Gene: AC113383.1, P-value: 0.000000\n",
      "  Gene: ARHGAP10, P-value: 0.000000\n",
      "\n",
      "Article: https://www.ncbi.nlm.nih.gov/pmc/articles/PMID31097668\n",
      "  Gene: ENSG00000074410, P-value: 0.005398\n",
      "  Gene: ENSG00000169515, P-value: 0.005398\n",
      "  Gene: ENSG00000101493, P-value: 0.009701\n",
      "  Gene: ENSG00000102445, P-value: 0.009701\n",
      "  Gene: ENSG00000120742, P-value: 0.009701\n",
      "  Gene: ENSG00000158966, P-value: 0.009706\n",
      "  Gene: ENSG00000137693, P-value: 0.009706\n",
      "  Gene: ENSG00000258655, P-value: 0.009706\n",
      "  Gene: ENSG00000085719, P-value: 0.009811\n",
      "  Gene: ENSG00000153208, P-value: 0.009987\n",
      "\n"
     ]
    }
   ],
   "source": [
    "from collections import defaultdict\n",
    "from decimal import Decimal, getcontext\n",
    "\n",
    "getcontext().prec = 6   #to set 6 sig. digits.\n",
    "\n",
    "def find_root(g, node, visited=None):\n",
    "    if visited is None:\n",
    "        visited = set()\n",
    "    visited.add(node)\n",
    "    parents = list(g.subjects(predicate=None, object=node))\n",
    "    if not parents:\n",
    "        return node\n",
    "    for parent in parents:\n",
    "        if parent not in visited:\n",
    "            return find_root(g, parent, visited)\n",
    "    return node\n",
    "\n",
    "# store genes and p-values for each root(article)\n",
    "root_data = defaultdict(list)\n",
    "\n",
    "for row in results:\n",
    "    try:\n",
    "        value = Decimal(row.value)\n",
    "        if value < Decimal('0.05'):\n",
    "            subject = row.subject\n",
    "            root = find_root(g, subject)\n",
    "            root_data[root].append((row.gene, value))\n",
    "    except (ValueError, InvalidOperation):\n",
    "        pass\n",
    "\n",
    "for root, gene_data in root_data.items():\n",
    "    print(f\"Article: {root}\")\n",
    "    for gene, pvalue in sorted(gene_data, key=lambda x: x[1])[:10]:  # Sort by p-value and return first 10\n",
    "        print(f\"  Gene: {gene}, P-value: {pvalue:.6f}\")  # Format to 6 decimal places\n",
    "    print()"
   ]
  },
  {
   "cell_type": "markdown",
   "metadata": {},
   "source": [
    "(now can repeat with more articles and included conversion between gene formats (and logfold figure))"
   ]
  }
 ],
 "metadata": {
  "kernelspec": {
   "display_name": "Python 3",
   "language": "python",
   "name": "python3"
  },
  "language_info": {
   "codemirror_mode": {
    "name": "ipython",
    "version": 3
   },
   "file_extension": ".py",
   "mimetype": "text/x-python",
   "name": "python",
   "nbconvert_exporter": "python",
   "pygments_lexer": "ipython3",
   "version": "3.11.2"
  }
 },
 "nbformat": 4,
 "nbformat_minor": 2
}
