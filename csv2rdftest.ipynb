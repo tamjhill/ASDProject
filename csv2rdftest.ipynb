{
 "cells": [
  {
   "cell_type": "code",
   "execution_count": 14,
   "metadata": {},
   "outputs": [
    {
     "name": "stdout",
     "output_type": "stream",
     "text": [
      "  Cell type      Ensemble ID  Entrez ID  Symbol  \\\n",
      "0    AST-FB  ENSG00000087250     4504.0     MT3   \n",
      "1    AST-FB  ENSG00000107317     5730.0   PTGDS   \n",
      "2    AST-FB  ENSG00000120594    84898.0  PLXDC2   \n",
      "3    AST-FB  ENSG00000135821     2752.0    GLUL   \n",
      "4    AST-FB  ENSG00000184226     5101.0   PCDH9   \n",
      "\n",
      "   LogFC relative to other subtypes Change relative to other subtypes  \\\n",
      "0                          0.202767                     up-regulated    \n",
      "1                         -0.694428                   down-regulated    \n",
      "2                          0.308362                     up-regulated    \n",
      "3                         -0.985709                   down-regulated    \n",
      "4                          0.440889                     up-regulated    \n",
      "\n",
      "   Fdr relative to other subtypes  LogFC relative to controls  \\\n",
      "0                    6.150110e-04                    0.775549   \n",
      "1                    3.360000e-10                   -0.456181   \n",
      "2                    9.149729e-03                    0.261563   \n",
      "3                    2.203210e-04                   -0.505408   \n",
      "4                    7.529400e-04                    1.327541   \n",
      "\n",
      "  Change relative to controls  Fdr relative to controls SFARI gene  \\\n",
      "0               up-regulated               4.330000e-05         No   \n",
      "1             down-regulated               5.490000e-09         No   \n",
      "2               up-regulated               1.385640e-02         No   \n",
      "3             down-regulated               1.522283e-03         No   \n",
      "4               up-regulated               6.760000e-06        Yes   \n",
      "\n",
      "                  DOI  \n",
      "0  s12859-023-05278-0  \n",
      "1  s12859-023-05278-0  \n",
      "2  s12859-023-05278-0  \n",
      "3  s12859-023-05278-0  \n",
      "4  s12859-023-05278-0  \n"
     ]
    }
   ],
   "source": [
    "import csv\n",
    "import os\n",
    "import pandas as pd\n",
    "\n",
    "\n",
    "filename = \"data\\supp_data\\s12859-023-05278-0\\dataset_test1.csv\"\n",
    "\n",
    "with open(filename,'r') as csvfile:\n",
    "    \n",
    "    df = pd.read_csv(filename)\n",
    "    parent_folder = os.path.split(os.path.dirname(filename))[-1]\n",
    "    df[\"DOI\"] = parent_folder\n",
    "        \n",
    "\n",
    "    print(df.head())"
   ]
  },
  {
   "cell_type": "code",
   "execution_count": null,
   "metadata": {},
   "outputs": [],
   "source": [
    "from rdflib import Dataset, URIRef, Literal, Namespace, RDF, RDFS, OWL, XSD\n",
    "\n",
    "# A namespace for our resources\n",
    "data = 'http://data.krw.d2s.labs.vu.nl/group20/resource/'\n",
    "DATA = Namespace(data)\n",
    "# A namespace for our vocabulary items (schema information, RDFS, OWL classes and properties etc.)\n",
    "vocab = 'http://data.krw.d2s.labs.vu.nl/group20/vocab/'\n",
    "VOCAB = Namespace('http://data.krw.d2s.labs.vu.nl/group20/vocab/')\n",
    "\n",
    "# The URI for our graph\n",
    "graph_uri = URIRef('http://data.krw.d2s.labs.vu.nl/group20/resource/examplegraph')\n",
    "\n",
    "# We initialize a dataset, and bind our namespaces\n",
    "dataset = Dataset()\n",
    "dataset.bind('g20data',DATA)\n",
    "dataset.bind('g20vocab',VOCAB)\n",
    "\n",
    "# We then get a new graph object with our URI from the dataset.\n",
    "graph = dataset.graph(graph_uri)"
   ]
  }
 ],
 "metadata": {
  "kernelspec": {
   "display_name": "Python 3",
   "language": "python",
   "name": "python3"
  },
  "language_info": {
   "codemirror_mode": {
    "name": "ipython",
    "version": 3
   },
   "file_extension": ".py",
   "mimetype": "text/x-python",
   "name": "python",
   "nbconvert_exporter": "python",
   "pygments_lexer": "ipython3",
   "version": "3.11.2"
  }
 },
 "nbformat": 4,
 "nbformat_minor": 2
}
