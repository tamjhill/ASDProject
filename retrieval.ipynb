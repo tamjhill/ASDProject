{
 "cells": [
  {
   "cell_type": "code",
   "execution_count": 1,
   "metadata": {},
   "outputs": [
    {
     "ename": "ImportError",
     "evalue": "cannot import name 'util' from 'utils' (c:\\Users\\tamjh\\AppData\\Local\\Programs\\Python\\Python311\\Lib\\site-packages\\utils\\__init__.py)",
     "output_type": "error",
     "traceback": [
      "\u001b[1;31m---------------------------------------------------------------------------\u001b[0m",
      "\u001b[1;31mImportError\u001b[0m                               Traceback (most recent call last)",
      "Cell \u001b[1;32mIn[1], line 9\u001b[0m\n\u001b[0;32m      7\u001b[0m \u001b[38;5;28;01mfrom\u001b[39;00m \u001b[38;5;21;01mlangchain\u001b[39;00m \u001b[38;5;28;01mimport\u001b[39;00m HuggingFaceHub\n\u001b[0;32m      8\u001b[0m \u001b[38;5;28;01mfrom\u001b[39;00m \u001b[38;5;21;01mlangchain\u001b[39;00m \u001b[38;5;28;01mimport\u001b[39;00m PromptTemplate\n\u001b[1;32m----> 9\u001b[0m \u001b[38;5;28;01mfrom\u001b[39;00m \u001b[38;5;21;01mutils\u001b[39;00m \u001b[38;5;28;01mimport\u001b[39;00m util\n",
      "\u001b[1;31mImportError\u001b[0m: cannot import name 'util' from 'utils' (c:\\Users\\tamjh\\AppData\\Local\\Programs\\Python\\Python311\\Lib\\site-packages\\utils\\__init__.py)"
     ]
    }
   ],
   "source": [
    "from langchain_community import document_loaders as dl\n",
    "from langchain_community import text_splitter as ts\n",
    "from langchain_community import embeddings\n",
    "from langchain_community import vectorstores as vs\n",
    "from langchain_community import retrievers\n",
    "from langchain_community.chains.question_answering import load_qa_chain\n",
    "from langchain_community import HuggingFaceHub\n",
    "from langchain_community import PromptTemplate\n",
    "from utils import util"
   ]
  },
  {
   "cell_type": "code",
   "execution_count": null,
   "metadata": {},
   "outputs": [],
   "source": [
    "from langchain_community.document_loaders import UnstructuredExcelLoader\n",
    "\n",
    "# Load the .xlsx file\n",
    "loader = UnstructuredExcelLoader(\"example_data/file.xlsx\", mode=\"elements\")\n",
    "docs = loader.load()\n",
    "\n",
    "from langchain_community.vectorstores import FAISS\n",
    "from langchain_openai import OpenAIEmbeddings\n",
    "from langchain_community.document_loaders import TextLoader\n",
    "\n",
    "# Load the documents\n",
    "loader = TextLoader(\"path_to_your_text_file.txt\")\n",
    "documents = loader.load()\n",
    "\n",
    "# Split the documents if needed\n",
    "# Add your code to split the documents if necessary\n",
    "\n",
    "# Initialize the OpenAI embeddings\n",
    "embeddings = OpenAIEmbeddings()\n",
    "\n",
    "# Create a FAISS vector store from the documents and embeddings\n",
    "vector_store = FAISS.from_documents(documents, embeddings)\n",
    "\n"
   ]
  },
  {
   "cell_type": "code",
   "execution_count": null,
   "metadata": {},
   "outputs": [],
   "source": [
    "from langchain_community.vectorstores import FAISS\n",
    "from langchain_openai import OpenAIEmbeddings\n",
    "from langchain_community.document_loaders import DirectoryLoader, TextLoader\n",
    "\n",
    "# Define the directory containing the text files\n",
    "directory_path = \"path_to_your_directory\"\n",
    "\n",
    "# Create a DirectoryLoader for the specified directory and file extensions\n",
    "loader = DirectoryLoader(\n",
    "    directory_path,\n",
    "    {\n",
    "        \".txt\": (lambda path: TextLoader(path))\n",
    "        # Add more file extensions and their respective loaders if needed\n",
    "    }\n",
    ")"
   ]
  },
  {
   "cell_type": "code",
   "execution_count": null,
   "metadata": {},
   "outputs": [],
   "source": [
    "from langchain_community.document_loaders import DirectoryLoader\n",
    "from langchain_core.document import Document\n",
    "from typing import List, Optional, Any\n",
    "from pathlib import Path\n",
    "import os\n",
    "import time\n",
    "\n",
    "class DateDirectoryLoader(DirectoryLoader):\n",
    "    def load_file(self, item: Path, path: Path, docs: List[Document], pbar: Optional[Any]) -> None:\n",
    "        \"\"\"Load a file and its metadata.\"\"\"\n",
    "        if item.is_file():\n",
    "            # Load the file\n",
    "            super().load_file(item, path, docs, pbar)\n",
    "            # Add the file metadata\n",
    "            creation_date = time.ctime(os.path.getctime(str(item)))\n",
    "            modification_date = time.ctime(os.path.getmtime(str(item)))\n",
    "            for doc in docs[len(docs) - 1:]:\n",
    "                doc.metadata['creation_date'] = creation_date\n",
    "                doc.metadata['modification_date'] = modification_date\n",
    "    # can then use this DateDirectoryLoader to load files with their respective metadata."
   ]
  },
  {
   "cell_type": "code",
   "execution_count": null,
   "metadata": {},
   "outputs": [],
   "source": [
    "from langchain.document_loaders import UnstructuredURLLoader\n",
    "url = \"https://example.com\"\n",
    "loader = UnstructuredURLLoader(urls=[url])\n",
    "data = loader.load()"
   ]
  },
  {
   "cell_type": "code",
   "execution_count": null,
   "metadata": {},
   "outputs": [],
   "source": [
    "# Creating the vector database for the RAG to search:\n",
    "\n",
    "nest_asyncio.apply()\n",
    "\n",
    "# Articles to index\n",
    "articles = [\"https://doi.org/10.1038/s41586-023-06473-y\"]\n",
    "\n",
    "# Scrapes the article above\n",
    "loader = AsyncChromiumLoader(articles)\n",
    "docs = loader.load()\n",
    "\n",
    "# Converts HTML to plain text\n",
    "html2text = Html2TextTransformer()\n",
    "docs_transformed = html2text.transform_documents(docs)"
   ]
  },
  {
   "cell_type": "code",
   "execution_count": null,
   "metadata": {},
   "outputs": [],
   "source": [
    "from langchain.vectorstores import YourVectorStore  # Replace YourVectorStore with the specific vector store you are using\n",
    "import your_database_library  # Import the library for your specific database\n",
    "\n",
    "# Assuming you have already vectorized your data and stored it in a variable named 'vectorized_data'\n",
    "\n",
    "# Connect to your database\n",
    "db = your_database_library.connect('your_database_connection_details')\n",
    "\n",
    "# Create a table or collection in your database\n",
    "db_table = db.create_table('your_table_name')\n",
    "\n",
    "# Store the vectorized data in the database\n",
    "for item in vectorized_data:\n",
    "    db_table.insert(item)\n",
    "\n",
    "# Close the connection to the database\n",
    "db.close()\n",
    "\"\"\"In this code, you would replace YourVectorStore with the specific vector store you are using, and your_database_library \n",
    "with the library for your specific database, such as pymongo for MongoDB or psycopg2 for PostgreSQL. Additionally, you would \n",
    "replace 'your_database_connection_details' with the connection details for your specific database, and 'your_table_name' \n",
    "with the name of the table or collection where you want to store the vectorized data.\n",
    "\"\"\""
   ]
  }
 ],
 "metadata": {
  "kernelspec": {
   "display_name": "Python 3",
   "language": "python",
   "name": "python3"
  },
  "language_info": {
   "codemirror_mode": {
    "name": "ipython",
    "version": 3
   },
   "file_extension": ".py",
   "mimetype": "text/x-python",
   "name": "python",
   "nbconvert_exporter": "python",
   "pygments_lexer": "ipython3",
   "version": "3.11.2"
  }
 },
 "nbformat": 4,
 "nbformat_minor": 2
}
